{
  "nbformat": 4,
  "nbformat_minor": 0,
  "metadata": {
    "colab": {
      "provenance": [],
      "authorship_tag": "ABX9TyMtoOjQ6QZwNtvacIjxjbRc",
      "include_colab_link": true
    },
    "kernelspec": {
      "name": "python3",
      "display_name": "Python 3"
    },
    "language_info": {
      "name": "python"
    }
  },
  "cells": [
    {
      "cell_type": "markdown",
      "metadata": {
        "id": "view-in-github",
        "colab_type": "text"
      },
      "source": [
        "<a href=\"https://colab.research.google.com/github/yohanes-erwin/notebook/blob/main/mnist_digit_cnn.ipynb\" target=\"_parent\"><img src=\"https://colab.research.google.com/assets/colab-badge.svg\" alt=\"Open In Colab\"/></a>"
      ]
    },
    {
      "cell_type": "code",
      "execution_count": 1,
      "metadata": {
        "colab": {
          "base_uri": "https://localhost:8080/"
        },
        "id": "achd7DkelfhH",
        "outputId": "3f787028-5d11-4dcc-f01a-9d7adb2173df"
      },
      "outputs": [
        {
          "output_type": "stream",
          "name": "stdout",
          "text": [
            "Colab only includes TensorFlow 2.x; %tensorflow_version has no effect.\n"
          ]
        }
      ],
      "source": [
        "import numpy as np\n",
        "import matplotlib.pyplot as plt\n",
        "\n",
        "%tensorflow_version 2.x\n",
        "import tensorflow as tf"
      ]
    },
    {
      "cell_type": "markdown",
      "source": [
        "### Data Preprocessing"
      ],
      "metadata": {
        "id": "V3nZznOClnSz"
      }
    },
    {
      "cell_type": "markdown",
      "source": [
        "Melakukan import dataset MNIST dari Keras, split data menjadi traning dan test, reshape ukuran matriks, dan encoding label secara kategorical."
      ],
      "metadata": {
        "id": "ILCrWcuAlp_S"
      }
    },
    {
      "cell_type": "code",
      "source": [
        "# Load data\n",
        "mnist = tf.keras.datasets.mnist\n",
        "train_data, test_data = mnist.load_data()"
      ],
      "metadata": {
        "id": "terVWT9Qlh4b"
      },
      "execution_count": 2,
      "outputs": []
    },
    {
      "cell_type": "code",
      "source": [
        "# Feature dan label\n",
        "train_images, train_labels = train_data\n",
        "test_images, test_labels = test_data"
      ],
      "metadata": {
        "id": "yKdXqJ3clrwL"
      },
      "execution_count": 3,
      "outputs": []
    },
    {
      "cell_type": "code",
      "source": [
        "# Reshape menjadi 4D\n",
        "X_train = train_images.reshape((60000, 28, 28, 1))\n",
        "X_test = test_images.reshape((10000, 28, 28, 1))"
      ],
      "metadata": {
        "id": "45gbKQ7qls26"
      },
      "execution_count": 4,
      "outputs": []
    },
    {
      "cell_type": "code",
      "source": [
        "# Normalisasi\n",
        "X_train = X_train.astype('float32') / 255\n",
        "X_test = X_test.astype('float32') / 255"
      ],
      "metadata": {
        "id": "sEbfHQVsluQK"
      },
      "execution_count": 5,
      "outputs": []
    },
    {
      "cell_type": "code",
      "source": [
        "# Encoding label dengan one hot encoding\n",
        "y_train = tf.keras.utils.to_categorical(train_labels)\n",
        "y_test = tf.keras.utils.to_categorical(test_labels)"
      ],
      "metadata": {
        "id": "d4B5eBkkmCeK"
      },
      "execution_count": 6,
      "outputs": []
    },
    {
      "cell_type": "markdown",
      "source": [
        "Melihat ukuran matrix dan visualisasi image, label, dan encoding."
      ],
      "metadata": {
        "id": "qVaXQ3eTmRAr"
      }
    },
    {
      "cell_type": "code",
      "source": [
        "print(\"Training Images:\", X_train.shape)\n",
        "print(\"Testing Images:\", X_test.shape)\n",
        "print(\"Training Labels:\", y_train.shape)\n",
        "print(\"Test Labels:\", y_test.shape)"
      ],
      "metadata": {
        "colab": {
          "base_uri": "https://localhost:8080/"
        },
        "id": "O878u79-mLc6",
        "outputId": "6cd1466b-fc4c-4f17-c89e-cb89eb53fb6e"
      },
      "execution_count": 7,
      "outputs": [
        {
          "output_type": "stream",
          "name": "stdout",
          "text": [
            "Training Images: (60000, 28, 28, 1)\n",
            "Testing Images: (10000, 28, 28, 1)\n",
            "Training Labels: (60000, 10)\n",
            "Test Labels: (10000, 10)\n"
          ]
        }
      ]
    },
    {
      "cell_type": "code",
      "source": [
        "plt.imshow(train_images[0], cmap=plt.get_cmap('gray'))\n",
        "plt.show()"
      ],
      "metadata": {
        "colab": {
          "base_uri": "https://localhost:8080/",
          "height": 430
        },
        "id": "zwX9yt3nmTUa",
        "outputId": "909aa160-6f41-47db-e193-281064a74ab5"
      },
      "execution_count": 8,
      "outputs": [
        {
          "output_type": "display_data",
          "data": {
            "text/plain": [
              "<Figure size 640x480 with 1 Axes>"
            ],
            "image/png": "[encoded data removed]"
          },
          "metadata": {}
        }
      ]
    },
    {
      "cell_type": "code",
      "source": [
        "train_labels[0]"
      ],
      "metadata": {
        "colab": {
          "base_uri": "https://localhost:8080/"
        },
        "id": "XfPAejztmWJy",
        "outputId": "eced7e55-07f0-445e-9327-ccad9a9a7c49"
      },
      "execution_count": 9,
      "outputs": [
        {
          "output_type": "execute_result",
          "data": {
            "text/plain": [
              "5"
            ]
          },
          "metadata": {},
          "execution_count": 9
        }
      ]
    },
    {
      "cell_type": "code",
      "source": [
        "y_train[0]"
      ],
      "metadata": {
        "colab": {
          "base_uri": "https://localhost:8080/"
        },
        "id": "pRCR664QmXvJ",
        "outputId": "98282ad1-0a8c-45ad-fb13-57be0a680b41"
      },
      "execution_count": 10,
      "outputs": [
        {
          "output_type": "execute_result",
          "data": {
            "text/plain": [
              "array([0., 0., 0., 0., 0., 1., 0., 0., 0., 0.], dtype=float32)"
            ]
          },
          "metadata": {},
          "execution_count": 10
        }
      ]
    },
    {
      "cell_type": "markdown",
      "source": [
        "### Convolutional Neural Network"
      ],
      "metadata": {
        "id": "eed6LR3cmpZa"
      }
    },
    {
      "cell_type": "markdown",
      "source": [
        "Membuat model convolutional neural network."
      ],
      "metadata": {
        "id": "Qg5uXMHYmvdq"
      }
    },
    {
      "cell_type": "code",
      "source": [
        "# Model sekuensial\n",
        "model = tf.keras.models.Sequential()"
      ],
      "metadata": {
        "id": "hweo1OBRmY4x"
      },
      "execution_count": 11,
      "outputs": []
    },
    {
      "cell_type": "code",
      "source": [
        "# Menambahkan layer\n",
        "model.add(tf.keras.layers.Conv2D(32, (3, 3), activation='relu', input_shape=(28, 28, 1)))\n",
        "model.add(tf.keras.layers.MaxPooling2D((2, 2)))\n",
        "model.add(tf.keras.layers.Conv2D(64, (3, 3), activation='relu'))\n",
        "model.add(tf.keras.layers.MaxPooling2D(2, 2))\n",
        "model.add(tf.keras.layers.Conv2D(64, (3, 3), activation='relu'))\n",
        "model.add(tf.keras.layers.Flatten())\n",
        "model.add(tf.keras.layers.Dense(64, activation='relu'))\n",
        "model.add(tf.keras.layers.Dense(10, activation='softmax'))"
      ],
      "metadata": {
        "id": "INdT6L3ym1wx"
      },
      "execution_count": 12,
      "outputs": []
    },
    {
      "cell_type": "code",
      "source": [
        "# Rangkuman model\n",
        "model.summary()"
      ],
      "metadata": {
        "colab": {
          "base_uri": "https://localhost:8080/"
        },
        "id": "uSofx44Ym7n5",
        "outputId": "397b38ee-fef2-465a-a5e9-2862f97521de"
      },
      "execution_count": 13,
      "outputs": [
        {
          "output_type": "stream",
          "name": "stdout",
          "text": [
            "Model: \"sequential\"\n",
            "_________________________________________________________________\n",
            " Layer (type)                Output Shape              Param #   \n",
            "=================================================================\n",
            " conv2d (Conv2D)             (None, 26, 26, 32)        320       \n",
            "                                                                 \n",
            " max_pooling2d (MaxPooling2  (None, 13, 13, 32)        0         \n",
            " D)                                                              \n",
            "                                                                 \n",
            " conv2d_1 (Conv2D)           (None, 11, 11, 64)        18496     \n",
            "                                                                 \n",
            " max_pooling2d_1 (MaxPoolin  (None, 5, 5, 64)          0         \n",
            " g2D)                                                            \n",
            "                                                                 \n",
            " conv2d_2 (Conv2D)           (None, 3, 3, 64)          36928     \n",
            "                                                                 \n",
            " flatten (Flatten)           (None, 576)               0         \n",
            "                                                                 \n",
            " dense (Dense)               (None, 64)                36928     \n",
            "                                                                 \n",
            " dense_1 (Dense)             (None, 10)                650       \n",
            "                                                                 \n",
            "=================================================================\n",
            "Total params: 93322 (364.54 KB)\n",
            "Trainable params: 93322 (364.54 KB)\n",
            "Non-trainable params: 0 (0.00 Byte)\n",
            "_________________________________________________________________\n"
          ]
        }
      ]
    },
    {
      "cell_type": "code",
      "source": [
        "# Compile model\n",
        "model.compile(optimizer='adam', loss='categorical_crossentropy', metrics=['accuracy'])"
      ],
      "metadata": {
        "id": "r35qyyvam9kS"
      },
      "execution_count": 14,
      "outputs": []
    },
    {
      "cell_type": "markdown",
      "source": [
        "Training model dengan 10 epochs, batch size 128."
      ],
      "metadata": {
        "id": "FsGiUqbwnUH0"
      }
    },
    {
      "cell_type": "code",
      "source": [
        "num_epochs = 10\n",
        "batch_size = 128"
      ],
      "metadata": {
        "id": "yGOR9f-dnXni"
      },
      "execution_count": 15,
      "outputs": []
    },
    {
      "cell_type": "code",
      "source": [
        "# Train the model\n",
        "history = model.fit(X_train, y_train, epochs=num_epochs, batch_size=batch_size, validation_data=(X_test, y_test))"
      ],
      "metadata": {
        "colab": {
          "base_uri": "https://localhost:8080/"
        },
        "id": "HCAhDV1AnN7K",
        "outputId": "d8388b1d-0f86-4685-d06a-e9436f28d19c"
      },
      "execution_count": 16,
      "outputs": [
        {
          "output_type": "stream",
          "name": "stdout",
          "text": [
            "Epoch 1/10\n",
            "469/469 [==============================] - 62s 119ms/step - loss: 0.2500 - accuracy: 0.9278 - val_loss: 0.0542 - val_accuracy: 0.9823\n",
            "Epoch 2/10\n",
            "469/469 [==============================] - 49s 105ms/step - loss: 0.0575 - accuracy: 0.9821 - val_loss: 0.0478 - val_accuracy: 0.9848\n",
            "Epoch 3/10\n",
            "469/469 [==============================] - 47s 100ms/step - loss: 0.0398 - accuracy: 0.9874 - val_loss: 0.0331 - val_accuracy: 0.9882\n",
            "Epoch 4/10\n",
            "469/469 [==============================] - 49s 105ms/step - loss: 0.0314 - accuracy: 0.9901 - val_loss: 0.0277 - val_accuracy: 0.9913\n",
            "Epoch 5/10\n",
            "469/469 [==============================] - 47s 100ms/step - loss: 0.0241 - accuracy: 0.9924 - val_loss: 0.0302 - val_accuracy: 0.9904\n",
            "Epoch 6/10\n",
            "469/469 [==============================] - 47s 101ms/step - loss: 0.0215 - accuracy: 0.9934 - val_loss: 0.0314 - val_accuracy: 0.9883\n",
            "Epoch 7/10\n",
            "469/469 [==============================] - 51s 108ms/step - loss: 0.0164 - accuracy: 0.9947 - val_loss: 0.0317 - val_accuracy: 0.9911\n",
            "Epoch 8/10\n",
            "469/469 [==============================] - 46s 99ms/step - loss: 0.0162 - accuracy: 0.9946 - val_loss: 0.0323 - val_accuracy: 0.9912\n",
            "Epoch 9/10\n",
            "469/469 [==============================] - 46s 99ms/step - loss: 0.0126 - accuracy: 0.9959 - val_loss: 0.0273 - val_accuracy: 0.9926\n",
            "Epoch 10/10\n",
            "469/469 [==============================] - 47s 101ms/step - loss: 0.0108 - accuracy: 0.9961 - val_loss: 0.0343 - val_accuracy: 0.9903\n"
          ]
        }
      ]
    },
    {
      "cell_type": "markdown",
      "source": [
        "Menampilkan metrics hasil traning untuk evaluasi."
      ],
      "metadata": {
        "id": "rSelc16GnioS"
      }
    },
    {
      "cell_type": "code",
      "source": [
        "test_loss, test_accuracy = model.evaluate(X_test, y_test)\n",
        "print('Test Accuracy:', test_accuracy)\n",
        "print('Test Loss:', test_loss)"
      ],
      "metadata": {
        "colab": {
          "base_uri": "https://localhost:8080/"
        },
        "id": "qq5DDVMBneDL",
        "outputId": "d04e1d31-53c8-41d9-f7eb-0d74b1fd653d"
      },
      "execution_count": 17,
      "outputs": [
        {
          "output_type": "stream",
          "name": "stdout",
          "text": [
            "313/313 [==============================] - 4s 14ms/step - loss: 0.0343 - accuracy: 0.9903\n",
            "Test Accuracy: 0.9902999997138977\n",
            "Test Loss: 0.03433768451213837\n"
          ]
        }
      ]
    },
    {
      "cell_type": "markdown",
      "source": [
        "Simpan metrics untuk setiap epoch agar dapat melakukan plot kurva loss dan accuracy."
      ],
      "metadata": {
        "id": "vrWhmbpNn_98"
      }
    },
    {
      "cell_type": "code",
      "source": [
        "metrics = history.history"
      ],
      "metadata": {
        "id": "FJs4X4jIoAMx"
      },
      "execution_count": 18,
      "outputs": []
    },
    {
      "cell_type": "code",
      "source": [
        "training_loss_list = metrics['loss']\n",
        "test_loss_list = metrics['val_loss']"
      ],
      "metadata": {
        "id": "hElPEFipoCCB"
      },
      "execution_count": 19,
      "outputs": []
    },
    {
      "cell_type": "code",
      "source": [
        "x = np.arange(0, num_epochs, 1)\n",
        "plt.title('Training and Test Loss')\n",
        "plt.xlabel('Epoch')\n",
        "plt.ylabel('Loss')\n",
        "plt.plot(x, training_loss_list, label='Training Loss')\n",
        "plt.plot(x, test_loss_list, label='Test Loss')\n",
        "plt.legend()\n",
        "plt.show()"
      ],
      "metadata": {
        "colab": {
          "base_uri": "https://localhost:8080/",
          "height": 472
        },
        "id": "5LFez9UKoEEB",
        "outputId": "e2fceace-c05e-4824-85f5-82f19cee460d"
      },
      "execution_count": 20,
      "outputs": [
        {
          "output_type": "display_data",
          "data": {
            "text/plain": [
              "<Figure size 640x480 with 1 Axes>"
            ],
            "image/png": "[encoded data removed]"
          },
          "metadata": {}
        }
      ]
    },
    {
      "cell_type": "code",
      "source": [
        "train_accuracy_list = metrics['accuracy']\n",
        "test_accuracy_list = metrics['val_accuracy']"
      ],
      "metadata": {
        "id": "1RIqPo1xoGR5"
      },
      "execution_count": 21,
      "outputs": []
    },
    {
      "cell_type": "code",
      "source": [
        "plt.title('Training and Test Accuracy')\n",
        "plt.xlabel('Epoch')\n",
        "plt.ylabel('Accuracy')\n",
        "plt.plot(x, train_accuracy_list, label='Training Accuracy')\n",
        "plt.plot(x, test_accuracy_list, label='Test Accuracy')\n",
        "plt.legend()\n",
        "plt.show()"
      ],
      "metadata": {
        "colab": {
          "base_uri": "https://localhost:8080/",
          "height": 472
        },
        "id": "XCleqHUWoHdZ",
        "outputId": "9b72e882-d3c9-4cfb-abd2-377087cb492b"
      },
      "execution_count": 22,
      "outputs": [
        {
          "output_type": "display_data",
          "data": {
            "text/plain": [
              "<Figure size 640x480 with 1 Axes>"
            ],
            "image/png": "[encoded data removed]"
          },
          "metadata": {}
        }
      ]
    },
    {
      "cell_type": "markdown",
      "source": [
        "### Inference"
      ],
      "metadata": {
        "id": "zHea7rbroN2y"
      }
    },
    {
      "cell_type": "markdown",
      "source": [
        "Melakukan prediksi dengan model yang sudah di-training."
      ],
      "metadata": {
        "id": "xRU9ha4coP9h"
      }
    },
    {
      "cell_type": "code",
      "source": [
        "predictions = model.predict(X_test)"
      ],
      "metadata": {
        "colab": {
          "base_uri": "https://localhost:8080/"
        },
        "id": "4fP-Hs_VoOEJ",
        "outputId": "ac1a0565-e843-4b89-c3d1-78128ea878eb"
      },
      "execution_count": 23,
      "outputs": [
        {
          "output_type": "stream",
          "name": "stdout",
          "text": [
            "313/313 [==============================] - 3s 9ms/step\n"
          ]
        }
      ]
    },
    {
      "cell_type": "code",
      "source": [
        "index = 0"
      ],
      "metadata": {
        "id": "wDRObqt4oT57"
      },
      "execution_count": 24,
      "outputs": []
    },
    {
      "cell_type": "code",
      "source": [
        "plt.imshow(test_images[index], cmap=plt.get_cmap('gray'))\n",
        "plt.show()"
      ],
      "metadata": {
        "colab": {
          "base_uri": "https://localhost:8080/",
          "height": 430
        },
        "id": "DFiVJQ2boVFq",
        "outputId": "adf30bfa-f1d5-42af-9a47-3f014921a755"
      },
      "execution_count": 25,
      "outputs": [
        {
          "output_type": "display_data",
          "data": {
            "text/plain": [
              "<Figure size 640x480 with 1 Axes>"
            ],
            "image/png": "[encoded data removed]"
          },
          "metadata": {}
        }
      ]
    },
    {
      "cell_type": "code",
      "source": [
        "print(\"Prediction:\", np.argmax(predictions[index]))"
      ],
      "metadata": {
        "colab": {
          "base_uri": "https://localhost:8080/"
        },
        "id": "5mZ2koRYoWUC",
        "outputId": "0712fc4e-1b26-403e-e127-5d5e31f2d6c4"
      },
      "execution_count": 26,
      "outputs": [
        {
          "output_type": "stream",
          "name": "stdout",
          "text": [
            "Prediction: 7\n"
          ]
        }
      ]
    }
  ]
}