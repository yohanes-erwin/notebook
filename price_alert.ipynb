{
  "nbformat": 4,
  "nbformat_minor": 0,
  "metadata": {
    "colab": {
      "provenance": [],
      "authorship_tag": "ABX9TyNf4Bjw5RHkRoEr8f1ReDSM",
      "include_colab_link": true
    },
    "kernelspec": {
      "name": "python3",
      "display_name": "Python 3"
    },
    "language_info": {
      "name": "python"
    }
  },
  "cells": [
    {
      "cell_type": "markdown",
      "metadata": {
        "id": "view-in-github",
        "colab_type": "text"
      },
      "source": [
        "<a href=\"https://colab.research.google.com/github/yohanes-erwin/notebook/blob/main/price_alert.ipynb\" target=\"_parent\"><img src=\"https://colab.research.google.com/assets/colab-badge.svg\" alt=\"Open In Colab\"/></a>"
      ]
    },
    {
      "cell_type": "code",
      "execution_count": 1,
      "metadata": {
        "id": "2vvAFsRnOPIj"
      },
      "outputs": [],
      "source": [
        "import datetime\n",
        "from pytz import timezone\n",
        "import requests"
      ]
    },
    {
      "cell_type": "code",
      "source": [
        "now_utc = datetime.datetime.now(timezone('UTC'))\n",
        "now_wib = now_utc.astimezone(timezone('Asia/Jakarta'))\n",
        "ct = now_wib.strftime(\"%d %b %Y, %H:%M\")"
      ],
      "metadata": {
        "id": "WEdbmBeVORnZ"
      },
      "execution_count": 2,
      "outputs": []
    },
    {
      "cell_type": "code",
      "source": [
        "ct"
      ],
      "metadata": {
        "colab": {
          "base_uri": "https://localhost:8080/",
          "height": 36
        },
        "id": "IBpJAmqyOflu",
        "outputId": "813aa2c2-45d4-4fa6-85d5-de912775d83b"
      },
      "execution_count": 3,
      "outputs": [
        {
          "output_type": "execute_result",
          "data": {
            "text/plain": [
              "'12 Nov 2023, 09:31'"
            ],
            "application/vnd.google.colaboratory.intrinsic+json": {
              "type": "string"
            }
          },
          "metadata": {},
          "execution_count": 3
        }
      ]
    },
    {
      "cell_type": "code",
      "source": [
        "api_url = \"https://api.binance.us/api/v3/ticker/price?symbol=BTCUSDT\"\n",
        "response = requests.get(api_url)\n",
        "response.json()"
      ],
      "metadata": {
        "colab": {
          "base_uri": "https://localhost:8080/"
        },
        "id": "ZL4h55ltO9KZ",
        "outputId": "7f1d6ffd-67e9-493b-9d16-8ea878f79b18"
      },
      "execution_count": 4,
      "outputs": [
        {
          "output_type": "execute_result",
          "data": {
            "text/plain": [
              "{'symbol': 'BTCUSDT', 'price': '36870.56000000'}"
            ]
          },
          "metadata": {},
          "execution_count": 4
        }
      ]
    },
    {
      "cell_type": "code",
      "source": [
        "coin_list = ['BTCUSDT','ETHUSDT']\n",
        "api_url = \"https://api.binance.us/api/v3/ticker/price?symbol=\"\n",
        "responses = []\n",
        "for c in coin_list:\n",
        "  #print(api_url + c)\n",
        "  responses.append(requests.get(api_url + c))"
      ],
      "metadata": {
        "id": "8I-5Hvn0OgVg"
      },
      "execution_count": 5,
      "outputs": []
    },
    {
      "cell_type": "code",
      "source": [
        "responses[0].json()"
      ],
      "metadata": {
        "colab": {
          "base_uri": "https://localhost:8080/"
        },
        "id": "BHQWpKtTOokD",
        "outputId": "a3621472-5bb8-42aa-c118-d168b9094492"
      },
      "execution_count": 6,
      "outputs": [
        {
          "output_type": "execute_result",
          "data": {
            "text/plain": [
              "{'symbol': 'BTCUSDT', 'price': '36870.56000000'}"
            ]
          },
          "metadata": {},
          "execution_count": 6
        }
      ]
    },
    {
      "cell_type": "code",
      "source": [
        "str(float(responses[0].json().get(\"price\")))"
      ],
      "metadata": {
        "colab": {
          "base_uri": "https://localhost:8080/",
          "height": 36
        },
        "id": "9LFyvtE8RTBG",
        "outputId": "da4ae8e8-75d1-4e75-8a9e-d6c9247a4277"
      },
      "execution_count": 7,
      "outputs": [
        {
          "output_type": "execute_result",
          "data": {
            "text/plain": [
              "'36870.56'"
            ],
            "application/vnd.google.colaboratory.intrinsic+json": {
              "type": "string"
            }
          },
          "metadata": {},
          "execution_count": 7
        }
      ]
    },
    {
      "cell_type": "code",
      "source": [
        "msg = \"My Price Alert\\n\" + ct + \"\\n\"\n",
        "for r in responses:\n",
        "  msg = msg + r.json().get(\"symbol\") + \": \" + str(float(r.json().get(\"price\"))) + \"\\n\"\n",
        "print(msg)"
      ],
      "metadata": {
        "colab": {
          "base_uri": "https://localhost:8080/"
        },
        "id": "O48M7Na1O08Y",
        "outputId": "d82167fe-c610-4449-9c36-bee8375af417"
      },
      "execution_count": 8,
      "outputs": [
        {
          "output_type": "stream",
          "name": "stdout",
          "text": [
            "My Price Alert\n",
            "12 Nov 2023, 09:31\n",
            "BTCUSDT: 36870.56\n",
            "ETHUSDT: 2044.54\n",
            "\n"
          ]
        }
      ]
    }
  ]
}