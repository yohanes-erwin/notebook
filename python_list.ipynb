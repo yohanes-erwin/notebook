{
  "nbformat": 4,
  "nbformat_minor": 0,
  "metadata": {
    "colab": {
      "provenance": [],
      "authorship_tag": "ABX9TyOEErGpU5+6SjTgDfKbs1N1",
      "include_colab_link": true
    },
    "kernelspec": {
      "name": "python3",
      "display_name": "Python 3"
    },
    "language_info": {
      "name": "python"
    }
  },
  "cells": [
    {
      "cell_type": "markdown",
      "metadata": {
        "id": "view-in-github",
        "colab_type": "text"
      },
      "source": [
        "<a href=\"https://colab.research.google.com/github/yohanes-erwin/notebook/blob/main/python_list.ipynb\" target=\"_parent\"><img src=\"https://colab.research.google.com/assets/colab-badge.svg\" alt=\"Open In Colab\"/></a>"
      ]
    },
    {
      "cell_type": "markdown",
      "source": [
        "List merupakan kumpulan dari variable"
      ],
      "metadata": {
        "id": "2wPitXM42xj2"
      }
    },
    {
      "cell_type": "code",
      "execution_count": 1,
      "metadata": {
        "colab": {
          "base_uri": "https://localhost:8080/"
        },
        "id": "qbQiXBOx2gTh",
        "outputId": "0987e1be-6da5-44aa-a0f6-5272dac898d9"
      },
      "outputs": [
        {
          "output_type": "execute_result",
          "data": {
            "text/plain": [
              "[1, 2, 3]"
            ]
          },
          "metadata": {},
          "execution_count": 1
        }
      ],
      "source": [
        "my_list = [1,2,3]\n",
        "my_list"
      ]
    },
    {
      "cell_type": "code",
      "source": [
        "type(my_list)"
      ],
      "metadata": {
        "colab": {
          "base_uri": "https://localhost:8080/"
        },
        "id": "XaoGUkak2qdp",
        "outputId": "8f9c34b4-f5e8-49be-ed7b-d6a3ee25fe73"
      },
      "execution_count": 2,
      "outputs": [
        {
          "output_type": "execute_result",
          "data": {
            "text/plain": [
              "list"
            ]
          },
          "metadata": {},
          "execution_count": 2
        }
      ]
    },
    {
      "cell_type": "markdown",
      "source": [
        "List dengan tipe data berbeda pada elemennya"
      ],
      "metadata": {
        "id": "D9S7AlJT28xL"
      }
    },
    {
      "cell_type": "code",
      "source": [
        "my_list2 = [2,'GOOG',5]\n",
        "my_list2"
      ],
      "metadata": {
        "colab": {
          "base_uri": "https://localhost:8080/"
        },
        "id": "IzIGyktw251t",
        "outputId": "32695d2b-cfab-4dd3-9933-873d670b6f2a"
      },
      "execution_count": 3,
      "outputs": [
        {
          "output_type": "execute_result",
          "data": {
            "text/plain": [
              "[2, 'GOOG', 5]"
            ]
          },
          "metadata": {},
          "execution_count": 3
        }
      ]
    },
    {
      "cell_type": "markdown",
      "source": [
        "Nested list yaitu list yang berada di dalam list"
      ],
      "metadata": {
        "id": "z2ODb6983KOi"
      }
    },
    {
      "cell_type": "code",
      "source": [
        "my_list3 = ['GOOG',[3,6,7]]\n",
        "my_list3"
      ],
      "metadata": {
        "colab": {
          "base_uri": "https://localhost:8080/"
        },
        "id": "TWiwYDRT3HgX",
        "outputId": "773cdc41-2564-4813-f569-32ccff4ddb2d"
      },
      "execution_count": 4,
      "outputs": [
        {
          "output_type": "execute_result",
          "data": {
            "text/plain": [
              "['GOOG', [3, 6, 7]]"
            ]
          },
          "metadata": {},
          "execution_count": 4
        }
      ]
    },
    {
      "cell_type": "markdown",
      "source": [
        "Mengakses elemen dari list"
      ],
      "metadata": {
        "id": "nsxbxWuT3pKB"
      }
    },
    {
      "cell_type": "code",
      "source": [
        "my_list2[1]"
      ],
      "metadata": {
        "colab": {
          "base_uri": "https://localhost:8080/",
          "height": 36
        },
        "id": "atfKz-Om3bhv",
        "outputId": "706fca88-a473-4f27-9a42-9398cfa46ecf"
      },
      "execution_count": 5,
      "outputs": [
        {
          "output_type": "execute_result",
          "data": {
            "text/plain": [
              "'GOOG'"
            ],
            "application/vnd.google.colaboratory.intrinsic+json": {
              "type": "string"
            }
          },
          "metadata": {},
          "execution_count": 5
        }
      ]
    },
    {
      "cell_type": "markdown",
      "source": [
        "Mengakses elemen dari nested list"
      ],
      "metadata": {
        "id": "fIi4dJI14X7A"
      }
    },
    {
      "cell_type": "code",
      "source": [
        "my_list3[1][0]"
      ],
      "metadata": {
        "colab": {
          "base_uri": "https://localhost:8080/"
        },
        "id": "k31lOwMv3miq",
        "outputId": "47d56e57-69c7-475c-e831-d43044aab2ac"
      },
      "execution_count": 6,
      "outputs": [
        {
          "output_type": "execute_result",
          "data": {
            "text/plain": [
              "3"
            ]
          },
          "metadata": {},
          "execution_count": 6
        }
      ]
    },
    {
      "cell_type": "code",
      "source": [
        "my_list3[1]"
      ],
      "metadata": {
        "colab": {
          "base_uri": "https://localhost:8080/"
        },
        "id": "Ow6zdxJN4nEP",
        "outputId": "72ca859c-c31d-4c88-e998-732769431868"
      },
      "execution_count": 7,
      "outputs": [
        {
          "output_type": "execute_result",
          "data": {
            "text/plain": [
              "[3, 6, 7]"
            ]
          },
          "metadata": {},
          "execution_count": 7
        }
      ]
    },
    {
      "cell_type": "markdown",
      "source": [
        "Mengakses elemen dengan negative indexing"
      ],
      "metadata": {
        "id": "skG-LEH446jb"
      }
    },
    {
      "cell_type": "code",
      "source": [
        "my_list2[-1]"
      ],
      "metadata": {
        "colab": {
          "base_uri": "https://localhost:8080/"
        },
        "id": "Kxc1cIAD42Nv",
        "outputId": "e1f561b5-f01e-43ed-bea2-60b45f560c87"
      },
      "execution_count": 8,
      "outputs": [
        {
          "output_type": "execute_result",
          "data": {
            "text/plain": [
              "5"
            ]
          },
          "metadata": {},
          "execution_count": 8
        }
      ]
    },
    {
      "cell_type": "markdown",
      "source": [
        "Mengakses lebih dari satu elemen"
      ],
      "metadata": {
        "id": "OBRO4EiG5hcH"
      }
    },
    {
      "cell_type": "code",
      "source": [
        "my_list4 = [2,5,7,'GOOG','SP500','AMZN',15]\n",
        "my_list4"
      ],
      "metadata": {
        "colab": {
          "base_uri": "https://localhost:8080/"
        },
        "id": "hFM-bVq85DCX",
        "outputId": "fb279005-9f26-4865-f37e-ea6f1982e17f"
      },
      "execution_count": 9,
      "outputs": [
        {
          "output_type": "execute_result",
          "data": {
            "text/plain": [
              "[2, 5, 7, 'GOOG', 'SP500', 'AMZN', 15]"
            ]
          },
          "metadata": {},
          "execution_count": 9
        }
      ]
    },
    {
      "cell_type": "code",
      "source": [
        "my_list4[3:6]"
      ],
      "metadata": {
        "colab": {
          "base_uri": "https://localhost:8080/"
        },
        "id": "FMeWZH7s5Yj4",
        "outputId": "6e749945-880c-4485-8db6-47a123c5df5b"
      },
      "execution_count": 10,
      "outputs": [
        {
          "output_type": "execute_result",
          "data": {
            "text/plain": [
              "['GOOG', 'SP500', 'AMZN']"
            ]
          },
          "metadata": {},
          "execution_count": 10
        }
      ]
    },
    {
      "cell_type": "code",
      "source": [
        "my_list4[3:]"
      ],
      "metadata": {
        "colab": {
          "base_uri": "https://localhost:8080/"
        },
        "id": "5522-sog5bY1",
        "outputId": "4326bd23-6fc8-4fa9-e923-880b23a0252f"
      },
      "execution_count": 11,
      "outputs": [
        {
          "output_type": "execute_result",
          "data": {
            "text/plain": [
              "['GOOG', 'SP500', 'AMZN', 15]"
            ]
          },
          "metadata": {},
          "execution_count": 11
        }
      ]
    },
    {
      "cell_type": "code",
      "source": [
        "my_list4[:]"
      ],
      "metadata": {
        "colab": {
          "base_uri": "https://localhost:8080/"
        },
        "id": "GxBQH9o15mpr",
        "outputId": "ddd767d0-aa86-43ec-bf4f-ae7c0d735cae"
      },
      "execution_count": 12,
      "outputs": [
        {
          "output_type": "execute_result",
          "data": {
            "text/plain": [
              "[2, 5, 7, 'GOOG', 'SP500', 'AMZN', 15]"
            ]
          },
          "metadata": {},
          "execution_count": 12
        }
      ]
    },
    {
      "cell_type": "code",
      "source": [
        "len(my_list4)"
      ],
      "metadata": {
        "colab": {
          "base_uri": "https://localhost:8080/"
        },
        "id": "YM4xWwfk5rDs",
        "outputId": "b77fe9bc-14b2-439a-8233-48e55dfeeccd"
      },
      "execution_count": 13,
      "outputs": [
        {
          "output_type": "execute_result",
          "data": {
            "text/plain": [
              "7"
            ]
          },
          "metadata": {},
          "execution_count": 13
        }
      ]
    }
  ]
}