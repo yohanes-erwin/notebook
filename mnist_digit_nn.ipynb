{
  "cells": [
    {
      "cell_type": "markdown",
      "metadata": {
        "id": "view-in-github",
        "colab_type": "text"
      },
      "source": [
        "<a href=\"https://colab.research.google.com/github/yohanes-erwin/notebook/blob/main/mnist_digit_nn.ipynb\" target=\"_parent\"><img src=\"https://colab.research.google.com/assets/colab-badge.svg\" alt=\"Open In Colab\"/></a>"
      ]
    },
    {
      "cell_type": "code",
      "execution_count": 1,
      "metadata": {
        "colab": {
          "base_uri": "https://localhost:8080/"
        },
        "id": "r1i08soiio4R",
        "outputId": "14f55654-a5dc-4fc6-aefc-df68b3ca0dff"
      },
      "outputs": [
        {
          "output_type": "stream",
          "name": "stdout",
          "text": [
            "Colab only includes TensorFlow 2.x; %tensorflow_version has no effect.\n"
          ]
        }
      ],
      "source": [
        "import numpy as np\n",
        "import matplotlib.pyplot as plt\n",
        "\n",
        "%tensorflow_version 2.x\n",
        "import tensorflow as tf"
      ]
    },
    {
      "cell_type": "markdown",
      "metadata": {
        "id": "k5peaCGkjEbx"
      },
      "source": [
        "### Data Preprocessing"
      ]
    },
    {
      "cell_type": "markdown",
      "metadata": {
        "id": "igA9sjhojDjl"
      },
      "source": [
        "Melakukan import dataset MNIST dari Keras, split data menjadi traning dan test, reshape ukuran matriks, dan encoding label secara kategorical."
      ]
    },
    {
      "cell_type": "code",
      "execution_count": 2,
      "metadata": {
        "id": "EtW-WnEjjgP0"
      },
      "outputs": [],
      "source": [
        "# Load data\n",
        "mnist = tf.keras.datasets.mnist\n",
        "train_data, test_data = mnist.load_data()"
      ]
    },
    {
      "cell_type": "code",
      "execution_count": 3,
      "metadata": {
        "id": "aeXfhK-CjpT2"
      },
      "outputs": [],
      "source": [
        "# Feature dan label\n",
        "train_images, train_labels = train_data\n",
        "test_images, test_labels = test_data"
      ]
    },
    {
      "cell_type": "code",
      "execution_count": 4,
      "metadata": {
        "id": "OpCNJhe6jwnh"
      },
      "outputs": [],
      "source": [
        "# Reshape dari 28 x 28 menjadi 784\n",
        "X_train = train_images.reshape((60000, 784))\n",
        "X_test = test_images.reshape((10000, 784))"
      ]
    },
    {
      "cell_type": "code",
      "execution_count": 5,
      "metadata": {
        "id": "T2MHBqlHkHsJ"
      },
      "outputs": [],
      "source": [
        "# Normalisasi\n",
        "X_train = X_train.astype('float32') / 255\n",
        "X_test = X_test.astype('float32') / 255"
      ]
    },
    {
      "cell_type": "code",
      "execution_count": 6,
      "metadata": {
        "id": "qkjTd5SLkhKT"
      },
      "outputs": [],
      "source": [
        "# Encoding label dengan one hot encoding\n",
        "y_train = tf.keras.utils.to_categorical(train_labels)\n",
        "y_test = tf.keras.utils.to_categorical(test_labels)"
      ]
    },
    {
      "cell_type": "markdown",
      "metadata": {
        "id": "OOqx-zJ2lvVx"
      },
      "source": [
        "Melihat ukuran matrix dan visualisasi image, label, dan encoding."
      ]
    },
    {
      "cell_type": "code",
      "execution_count": 7,
      "metadata": {
        "colab": {
          "base_uri": "https://localhost:8080/"
        },
        "id": "dPlrP5gxkrfV",
        "outputId": "cdac6a17-6605-4a40-9455-0c09f0300736"
      },
      "outputs": [
        {
          "output_type": "stream",
          "name": "stdout",
          "text": [
            "Training Images: (60000, 784)\n",
            "Testing Images: (10000, 784)\n",
            "Training Labels: (60000, 10)\n",
            "Test Labels: (10000, 10)\n"
          ]
        }
      ],
      "source": [
        "print(\"Training Images:\", X_train.shape)\n",
        "print(\"Testing Images:\", X_test.shape)\n",
        "print(\"Training Labels:\", y_train.shape)\n",
        "print(\"Test Labels:\", y_test.shape)"
      ]
    },
    {
      "cell_type": "code",
      "execution_count": 8,
      "metadata": {
        "colab": {
          "base_uri": "https://localhost:8080/",
          "height": 430
        },
        "id": "wwy68pjAlBuX",
        "outputId": "c46c417b-8bce-4527-b947-d3d1ee1c00d6"
      },
      "outputs": [
        {
          "output_type": "display_data",
          "data": {
            "text/plain": [
              "<Figure size 640x480 with 1 Axes>"
            ],
            "image/png": "[encoded data removed]"
          },
          "metadata": {}
        }
      ],
      "source": [
        "plt.imshow(train_images[0], cmap=plt.get_cmap('gray'))\n",
        "plt.show()"
      ]
    },
    {
      "cell_type": "code",
      "execution_count": 9,
      "metadata": {
        "colab": {
          "base_uri": "https://localhost:8080/"
        },
        "id": "xeG1glnWlGaJ",
        "outputId": "50a10c99-16fd-48da-b4f5-b63f15278137"
      },
      "outputs": [
        {
          "output_type": "execute_result",
          "data": {
            "text/plain": [
              "5"
            ]
          },
          "metadata": {},
          "execution_count": 9
        }
      ],
      "source": [
        "train_labels[0]"
      ]
    },
    {
      "cell_type": "code",
      "execution_count": 10,
      "metadata": {
        "colab": {
          "base_uri": "https://localhost:8080/"
        },
        "id": "IoDE-9w4lgJf",
        "outputId": "a6b3c8fa-6975-430b-a7af-5a0c48bcdd4b"
      },
      "outputs": [
        {
          "output_type": "execute_result",
          "data": {
            "text/plain": [
              "array([0., 0., 0., 0., 0., 1., 0., 0., 0., 0.], dtype=float32)"
            ]
          },
          "metadata": {},
          "execution_count": 10
        }
      ],
      "source": [
        "y_train[0]"
      ]
    },
    {
      "cell_type": "markdown",
      "metadata": {
        "id": "cjiBtYwMmBLZ"
      },
      "source": [
        "### Neural Network"
      ]
    },
    {
      "cell_type": "markdown",
      "metadata": {
        "id": "93WtLFu8J-x3"
      },
      "source": [
        "Membuat model neural network dengan 2 layer fully connected."
      ]
    },
    {
      "cell_type": "code",
      "execution_count": 11,
      "metadata": {
        "id": "-0AUsfCaljH7"
      },
      "outputs": [],
      "source": [
        "# Model sekuensial\n",
        "model = tf.keras.models.Sequential()"
      ]
    },
    {
      "cell_type": "code",
      "execution_count": 12,
      "metadata": {
        "id": "o1vMPmLcKGbn"
      },
      "outputs": [],
      "source": [
        "# Menambahkan dua layer fully connected\n",
        "model.add(tf.keras.layers.Dense(512, activation='relu', input_shape=(28 * 28,)))\n",
        "model.add(tf.keras.layers.Dense(10, activation='softmax'))"
      ]
    },
    {
      "cell_type": "code",
      "execution_count": 13,
      "metadata": {
        "colab": {
          "base_uri": "https://localhost:8080/"
        },
        "id": "VOWHPVSRKQwv",
        "outputId": "3fa3d767-d0f1-4ab4-9bff-16280e377f31"
      },
      "outputs": [
        {
          "output_type": "stream",
          "name": "stdout",
          "text": [
            "Model: \"sequential\"\n",
            "_________________________________________________________________\n",
            " Layer (type)                Output Shape              Param #   \n",
            "=================================================================\n",
            " dense (Dense)               (None, 512)               401920    \n",
            "                                                                 \n",
            " dense_1 (Dense)             (None, 10)                5130      \n",
            "                                                                 \n",
            "=================================================================\n",
            "Total params: 407050 (1.55 MB)\n",
            "Trainable params: 407050 (1.55 MB)\n",
            "Non-trainable params: 0 (0.00 Byte)\n",
            "_________________________________________________________________\n"
          ]
        }
      ],
      "source": [
        "# Rangkuman model\n",
        "model.summary()"
      ]
    },
    {
      "cell_type": "code",
      "execution_count": 14,
      "metadata": {
        "id": "oCbqhtwmKXUG"
      },
      "outputs": [],
      "source": [
        "# Compile model\n",
        "model.compile(optimizer='adam', loss='categorical_crossentropy', metrics=['accuracy'])"
      ]
    },
    {
      "cell_type": "markdown",
      "metadata": {
        "id": "347Pgqq-LXk3"
      },
      "source": [
        "Training model dengan 10 epochs, batch size 256."
      ]
    },
    {
      "cell_type": "code",
      "execution_count": 15,
      "metadata": {
        "id": "mUAfD9g-Lj3e"
      },
      "outputs": [],
      "source": [
        "num_epochs = 10\n",
        "batch_size = 256"
      ]
    },
    {
      "cell_type": "code",
      "execution_count": 16,
      "metadata": {
        "colab": {
          "base_uri": "https://localhost:8080/"
        },
        "id": "djPD59pNKp4G",
        "outputId": "777e572c-84f5-4426-8a63-19b14978943e"
      },
      "outputs": [
        {
          "output_type": "stream",
          "name": "stdout",
          "text": [
            "Epoch 1/10\n",
            "235/235 [==============================] - 11s 34ms/step - loss: 0.3265 - accuracy: 0.9102 - val_loss: 0.1732 - val_accuracy: 0.9485\n",
            "Epoch 2/10\n",
            "235/235 [==============================] - 8s 34ms/step - loss: 0.1395 - accuracy: 0.9608 - val_loss: 0.1208 - val_accuracy: 0.9645\n",
            "Epoch 3/10\n",
            "235/235 [==============================] - 5s 23ms/step - loss: 0.0943 - accuracy: 0.9725 - val_loss: 0.0893 - val_accuracy: 0.9724\n",
            "Epoch 4/10\n",
            "235/235 [==============================] - 4s 15ms/step - loss: 0.0684 - accuracy: 0.9805 - val_loss: 0.0781 - val_accuracy: 0.9746\n",
            "Epoch 5/10\n",
            "235/235 [==============================] - 3s 14ms/step - loss: 0.0519 - accuracy: 0.9858 - val_loss: 0.0753 - val_accuracy: 0.9760\n",
            "Epoch 6/10\n",
            "235/235 [==============================] - 5s 19ms/step - loss: 0.0407 - accuracy: 0.9887 - val_loss: 0.0670 - val_accuracy: 0.9786\n",
            "Epoch 7/10\n",
            "235/235 [==============================] - 3s 14ms/step - loss: 0.0323 - accuracy: 0.9913 - val_loss: 0.0660 - val_accuracy: 0.9792\n",
            "Epoch 8/10\n",
            "235/235 [==============================] - 4s 18ms/step - loss: 0.0255 - accuracy: 0.9936 - val_loss: 0.0671 - val_accuracy: 0.9793\n",
            "Epoch 9/10\n",
            "235/235 [==============================] - 4s 19ms/step - loss: 0.0200 - accuracy: 0.9955 - val_loss: 0.0631 - val_accuracy: 0.9800\n",
            "Epoch 10/10\n",
            "235/235 [==============================] - 4s 16ms/step - loss: 0.0161 - accuracy: 0.9964 - val_loss: 0.0623 - val_accuracy: 0.9799\n"
          ]
        }
      ],
      "source": [
        "# Training model\n",
        "history = model.fit(X_train, y_train, epochs=num_epochs, batch_size=batch_size, validation_data=(X_test, y_test))"
      ]
    },
    {
      "cell_type": "markdown",
      "metadata": {
        "id": "jLPfjC-QL5l9"
      },
      "source": [
        "Menampilkan metrics hasil traning untuk evaluasi."
      ]
    },
    {
      "cell_type": "code",
      "execution_count": 17,
      "metadata": {
        "colab": {
          "base_uri": "https://localhost:8080/"
        },
        "id": "4ogC0WRjLtNw",
        "outputId": "837ce75d-d09a-42d5-a27e-f04dbcc4e46e"
      },
      "outputs": [
        {
          "output_type": "stream",
          "name": "stdout",
          "text": [
            "313/313 [==============================] - 1s 4ms/step - loss: 0.0623 - accuracy: 0.9799\n",
            "Test Accuracy: 0.9799000024795532\n",
            "Test Loss: 0.06230497360229492\n"
          ]
        }
      ],
      "source": [
        "test_loss, test_accuracy = model.evaluate(X_test, y_test)\n",
        "print('Test Accuracy:', test_accuracy)\n",
        "print('Test Loss:', test_loss)"
      ]
    },
    {
      "cell_type": "markdown",
      "metadata": {
        "id": "hZq-QEhGMS_O"
      },
      "source": [
        "Simpan metrics untuk setiap epoch agar dapat melakukan plot kurva loss dan accuracy."
      ]
    },
    {
      "cell_type": "code",
      "execution_count": 18,
      "metadata": {
        "id": "RkBsa9zUMCVb"
      },
      "outputs": [],
      "source": [
        "metrics = history.history"
      ]
    },
    {
      "cell_type": "code",
      "execution_count": 19,
      "metadata": {
        "id": "uc75PytKMJ2t"
      },
      "outputs": [],
      "source": [
        "training_loss_list = metrics['loss']\n",
        "test_loss_list = metrics['val_loss']"
      ]
    },
    {
      "cell_type": "code",
      "execution_count": 20,
      "metadata": {
        "colab": {
          "base_uri": "https://localhost:8080/",
          "height": 472
        },
        "id": "vWg0otPjMlM0",
        "outputId": "18ff9fed-853b-4ace-976b-076f13d78cf5"
      },
      "outputs": [
        {
          "output_type": "display_data",
          "data": {
            "text/plain": [
              "<Figure size 640x480 with 1 Axes>"
            ],
            "image/png": "[encoded data removed]"
          },
          "metadata": {}
        }
      ],
      "source": [
        "x = np.arange(0, num_epochs, 1)\n",
        "plt.title('Training and Test Loss')\n",
        "plt.xlabel('Epoch')\n",
        "plt.ylabel('Loss')\n",
        "plt.plot(x, training_loss_list, label='Training Loss')\n",
        "plt.plot(x, test_loss_list, label='Test Loss')\n",
        "plt.legend()\n",
        "plt.show()"
      ]
    },
    {
      "cell_type": "code",
      "execution_count": 21,
      "metadata": {
        "id": "cWF0gL38Mrq1"
      },
      "outputs": [],
      "source": [
        "train_accuracy_list = metrics['accuracy']\n",
        "test_accuracy_list = metrics['val_accuracy']"
      ]
    },
    {
      "cell_type": "code",
      "execution_count": 22,
      "metadata": {
        "colab": {
          "base_uri": "https://localhost:8080/",
          "height": 472
        },
        "id": "VRyk39myMu1V",
        "outputId": "c7065345-a6fc-48c9-972f-924f94f826a3"
      },
      "outputs": [
        {
          "output_type": "display_data",
          "data": {
            "text/plain": [
              "<Figure size 640x480 with 1 Axes>"
            ],
            "image/png": "[encoded data removed]"
          },
          "metadata": {}
        }
      ],
      "source": [
        "plt.title('Training and Test Accuracy')\n",
        "plt.xlabel('Epoch')\n",
        "plt.ylabel('Accuracy')\n",
        "plt.plot(x, train_accuracy_list, label='Training Accuracy')\n",
        "plt.plot(x, test_accuracy_list, label='Test Accuracy')\n",
        "plt.legend()\n",
        "plt.show()"
      ]
    },
    {
      "cell_type": "markdown",
      "metadata": {
        "id": "7x-vAaTqM8NN"
      },
      "source": [
        "### Inference"
      ]
    },
    {
      "cell_type": "markdown",
      "metadata": {
        "id": "7Aw2AjObNG-9"
      },
      "source": [
        "Melakukan prediksi dengan model yang sudah di-training."
      ]
    },
    {
      "cell_type": "code",
      "execution_count": 23,
      "metadata": {
        "colab": {
          "base_uri": "https://localhost:8080/"
        },
        "id": "pn1fvF0iMy7c",
        "outputId": "ac1dc3e3-058a-48ff-f33a-fee795b522e6"
      },
      "outputs": [
        {
          "output_type": "stream",
          "name": "stdout",
          "text": [
            "313/313 [==============================] - 1s 3ms/step\n"
          ]
        }
      ],
      "source": [
        "predictions = model.predict(X_test)"
      ]
    },
    {
      "cell_type": "markdown",
      "metadata": {
        "id": "2_VFFtC5NVHl"
      },
      "source": [
        "Melihat hasil prediksi."
      ]
    },
    {
      "cell_type": "code",
      "execution_count": 24,
      "metadata": {
        "id": "eepBBMfsNgxU"
      },
      "outputs": [],
      "source": [
        "index = 0"
      ]
    },
    {
      "cell_type": "code",
      "execution_count": 25,
      "metadata": {
        "colab": {
          "base_uri": "https://localhost:8080/",
          "height": 430
        },
        "id": "_2obJ0KdNM_0",
        "outputId": "e96ca6bd-7b5e-46a8-81ac-61edb3e737f2"
      },
      "outputs": [
        {
          "output_type": "display_data",
          "data": {
            "text/plain": [
              "<Figure size 640x480 with 1 Axes>"
            ],
            "image/png": "[encoded data removed]"
          },
          "metadata": {}
        }
      ],
      "source": [
        "plt.imshow(test_images[index], cmap=plt.get_cmap('gray'))\n",
        "plt.show()"
      ]
    },
    {
      "cell_type": "code",
      "execution_count": 26,
      "metadata": {
        "colab": {
          "base_uri": "https://localhost:8080/"
        },
        "id": "M3gDOq6ANbyU",
        "outputId": "3dd3e189-de0f-4290-d8b5-c62c4e3c3634"
      },
      "outputs": [
        {
          "output_type": "stream",
          "name": "stdout",
          "text": [
            "Prediction: 7\n"
          ]
        }
      ],
      "source": [
        "print(\"Prediction:\", np.argmax(predictions[index]))"
      ]
    }
  ],
  "metadata": {
    "colab": {
      "provenance": [],
      "authorship_tag": "ABX9TyNJy7DZ1KXjfu6VdLRCKDAf",
      "include_colab_link": true
    },
    "kernelspec": {
      "display_name": "Python 3",
      "name": "python3"
    },
    "language_info": {
      "name": "python"
    }
  },
  "nbformat": 4,
  "nbformat_minor": 0
}