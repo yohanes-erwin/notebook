{
  "cells": [
    {
      "cell_type": "markdown",
      "metadata": {
        "id": "view-in-github",
        "colab_type": "text"
      },
      "source": [
        "<a href=\"https://colab.research.google.com/github/yohanes-erwin/notebook/blob/main/mnist_digit_nn.ipynb\" target=\"_parent\"><img src=\"https://colab.research.google.com/assets/colab-badge.svg\" alt=\"Open In Colab\"/></a>"
      ]
    },
    {
      "cell_type": "code",
      "execution_count": null,
      "metadata": {
        "colab": {
          "background_save": true
        },
        "id": "r1i08soiio4R",
        "outputId": "f1537bae-6b18-406a-a31a-c81c59efb201"
      },
      "outputs": [
        {
          "name": "stdout",
          "output_type": "stream",
          "text": [
            "Colab only includes TensorFlow 2.x; %tensorflow_version has no effect.\n"
          ]
        }
      ],
      "source": [
        "import numpy as np\n",
        "import matplotlib.pyplot as plt\n",
        "\n",
        "%tensorflow_version 2.x\n",
        "import tensorflow as tf"
      ]
    },
    {
      "cell_type": "markdown",
      "metadata": {
        "id": "k5peaCGkjEbx"
      },
      "source": [
        "### Data Preprocessing"
      ]
    },
    {
      "cell_type": "markdown",
      "metadata": {
        "id": "igA9sjhojDjl"
      },
      "source": [
        "Melakukan import dataset MNIST dari Keras, split data menjadi traning dan test, reshape ukuran matriks, dan encoding label secara kategorical."
      ]
    },
    {
      "cell_type": "code",
      "execution_count": null,
      "metadata": {
        "colab": {
          "background_save": true
        },
        "id": "EtW-WnEjjgP0"
      },
      "outputs": [],
      "source": [
        "# Load data\n",
        "mnist = tf.keras.datasets.mnist\n",
        "train_data, test_data = mnist.load_data()"
      ]
    },
    {
      "cell_type": "code",
      "execution_count": null,
      "metadata": {
        "colab": {
          "background_save": true
        },
        "id": "aeXfhK-CjpT2"
      },
      "outputs": [],
      "source": [
        "# Feature dan label\n",
        "train_images, train_labels = train_data\n",
        "test_images, test_labels = test_data"
      ]
    },
    {
      "cell_type": "code",
      "execution_count": null,
      "metadata": {
        "colab": {
          "background_save": true
        },
        "id": "OpCNJhe6jwnh"
      },
      "outputs": [],
      "source": [
        "# Reshape dari 28 x 28 menjadi 784\n",
        "X_train = train_images.reshape((60000, 784))\n",
        "X_test = test_images.reshape((10000, 784))"
      ]
    },
    {
      "cell_type": "code",
      "execution_count": null,
      "metadata": {
        "colab": {
          "background_save": true
        },
        "id": "T2MHBqlHkHsJ"
      },
      "outputs": [],
      "source": [
        "# Normalisasi\n",
        "X_train = X_train.astype('float32') / 255\n",
        "X_test = X_test.astype('float32') / 255"
      ]
    },
    {
      "cell_type": "code",
      "execution_count": null,
      "metadata": {
        "colab": {
          "background_save": true
        },
        "id": "qkjTd5SLkhKT"
      },
      "outputs": [],
      "source": [
        "# Encoding label dengan one hot encoding\n",
        "y_train = tf.keras.utils.to_categorical(train_labels)\n",
        "y_test = tf.keras.utils.to_categorical(test_labels)"
      ]
    },
    {
      "cell_type": "markdown",
      "metadata": {
        "id": "OOqx-zJ2lvVx"
      },
      "source": [
        "Melihat ukuran matrix dan visualisasi image, label, dan encoding."
      ]
    },
    {
      "cell_type": "code",
      "execution_count": null,
      "metadata": {
        "colab": {
          "background_save": true
        },
        "id": "dPlrP5gxkrfV",
        "outputId": "721a8148-690b-4cb3-fe54-237146077189"
      },
      "outputs": [
        {
          "name": "stdout",
          "output_type": "stream",
          "text": [
            "Training Images: (60000, 784)\n",
            "Testing Images: (10000, 784)\n",
            "Training Labels: (60000, 10)\n",
            "Test Labels: (10000, 10)\n"
          ]
        }
      ],
      "source": [
        "print(\"Training Images:\", X_train.shape)\n",
        "print(\"Testing Images:\", X_test.shape)\n",
        "print(\"Training Labels:\", y_train.shape)\n",
        "print(\"Test Labels:\", y_test.shape)"
      ]
    },
    {
      "cell_type": "code",
      "execution_count": null,
      "metadata": {
        "colab": {
          "background_save": true
        },
        "id": "wwy68pjAlBuX",
        "outputId": "a347afcc-28e7-41a8-80ea-7dd11c477e3f"
      },
      "outputs": [
        {
          "data": {
            "image/png": "[encoded data removed]",
            "text/plain": [
              "<Figure size 640x480 with 1 Axes>"
            ]
          },
          "metadata": {},
          "output_type": "display_data"
        }
      ],
      "source": [
        "plt.imshow(train_images[0], cmap=plt.get_cmap('gray'))\n",
        "plt.show()"
      ]
    },
    {
      "cell_type": "code",
      "execution_count": null,
      "metadata": {
        "colab": {
          "background_save": true
        },
        "id": "xeG1glnWlGaJ",
        "outputId": "810e9949-7dd3-4f30-9fc4-ee32532b8053"
      },
      "outputs": [
        {
          "data": {
            "text/plain": [
              "5"
            ]
          },
          "execution_count": 9,
          "metadata": {},
          "output_type": "execute_result"
        }
      ],
      "source": [
        "train_labels[0]"
      ]
    },
    {
      "cell_type": "code",
      "execution_count": null,
      "metadata": {
        "colab": {
          "background_save": true
        },
        "id": "IoDE-9w4lgJf",
        "outputId": "cd827546-2541-43d1-9cf3-177aa1a20e8b"
      },
      "outputs": [
        {
          "data": {
            "text/plain": [
              "array([0., 0., 0., 0., 0., 1., 0., 0., 0., 0.], dtype=float32)"
            ]
          },
          "execution_count": 10,
          "metadata": {},
          "output_type": "execute_result"
        }
      ],
      "source": [
        "y_train[0]"
      ]
    },
    {
      "cell_type": "markdown",
      "metadata": {
        "id": "cjiBtYwMmBLZ"
      },
      "source": [
        "### Neural Network"
      ]
    },
    {
      "cell_type": "markdown",
      "metadata": {
        "id": "93WtLFu8J-x3"
      },
      "source": [
        "Membuat model neural network dengan 2 layer fully connected."
      ]
    },
    {
      "cell_type": "code",
      "execution_count": null,
      "metadata": {
        "colab": {
          "background_save": true
        },
        "id": "-0AUsfCaljH7"
      },
      "outputs": [],
      "source": [
        "# Model sekuensial\n",
        "model = tf.keras.models.Sequential()"
      ]
    },
    {
      "cell_type": "code",
      "execution_count": null,
      "metadata": {
        "colab": {
          "background_save": true
        },
        "id": "o1vMPmLcKGbn"
      },
      "outputs": [],
      "source": [
        "# Menambahkan dua layer fully connected\n",
        "model.add(tf.keras.layers.Dense(512, activation='relu', input_shape=(28 * 28,)))\n",
        "model.add(tf.keras.layers.Dense(10, activation='softmax'))"
      ]
    },
    {
      "cell_type": "code",
      "execution_count": null,
      "metadata": {
        "colab": {
          "background_save": true
        },
        "id": "VOWHPVSRKQwv",
        "outputId": "67821d1f-883f-4a31-d38c-80e0104a1458"
      },
      "outputs": [
        {
          "name": "stdout",
          "output_type": "stream",
          "text": [
            "Model: \"sequential\"\n",
            "_________________________________________________________________\n",
            " Layer (type)                Output Shape              Param #   \n",
            "=================================================================\n",
            " dense (Dense)               (None, 512)               401920    \n",
            "                                                                 \n",
            " dense_1 (Dense)             (None, 10)                5130      \n",
            "                                                                 \n",
            "=================================================================\n",
            "Total params: 407050 (1.55 MB)\n",
            "Trainable params: 407050 (1.55 MB)\n",
            "Non-trainable params: 0 (0.00 Byte)\n",
            "_________________________________________________________________\n"
          ]
        }
      ],
      "source": [
        "# Rangkuman model\n",
        "model.summary()"
      ]
    },
    {
      "cell_type": "code",
      "execution_count": null,
      "metadata": {
        "colab": {
          "background_save": true
        },
        "id": "oCbqhtwmKXUG"
      },
      "outputs": [],
      "source": [
        "# Compile model\n",
        "model.compile(optimizer='adam', loss='categorical_crossentropy', metrics=['accuracy'])"
      ]
    },
    {
      "cell_type": "markdown",
      "metadata": {
        "id": "347Pgqq-LXk3"
      },
      "source": [
        "Training model dengan 10 epochs, batch size 256."
      ]
    },
    {
      "cell_type": "code",
      "execution_count": null,
      "metadata": {
        "colab": {
          "background_save": true
        },
        "id": "mUAfD9g-Lj3e"
      },
      "outputs": [],
      "source": [
        "num_epochs = 10\n",
        "batch_size = 256"
      ]
    },
    {
      "cell_type": "code",
      "execution_count": null,
      "metadata": {
        "colab": {
          "background_save": true
        },
        "id": "djPD59pNKp4G",
        "outputId": "6ba4d9a0-2cbc-4a86-a5a0-af59f8e91257"
      },
      "outputs": [
        {
          "name": "stdout",
          "output_type": "stream",
          "text": [
            "Epoch 1/10\n",
            "235/235 [==============================] - 7s 27ms/step - loss: 0.3255 - accuracy: 0.9094 - val_loss: 0.1699 - val_accuracy: 0.9502\n",
            "Epoch 2/10\n",
            "235/235 [==============================] - 8s 34ms/step - loss: 0.1380 - accuracy: 0.9609 - val_loss: 0.1145 - val_accuracy: 0.9673\n",
            "Epoch 3/10\n",
            "235/235 [==============================] - 8s 35ms/step - loss: 0.0929 - accuracy: 0.9735 - val_loss: 0.0974 - val_accuracy: 0.9704\n",
            "Epoch 4/10\n",
            "235/235 [==============================] - 5s 22ms/step - loss: 0.0680 - accuracy: 0.9811 - val_loss: 0.0771 - val_accuracy: 0.9760\n",
            "Epoch 5/10\n",
            "235/235 [==============================] - 4s 16ms/step - loss: 0.0511 - accuracy: 0.9854 - val_loss: 0.0691 - val_accuracy: 0.9789\n",
            "Epoch 6/10\n",
            "235/235 [==============================] - 7s 31ms/step - loss: 0.0400 - accuracy: 0.9894 - val_loss: 0.0677 - val_accuracy: 0.9790\n",
            "Epoch 7/10\n",
            "235/235 [==============================] - 5s 23ms/step - loss: 0.0318 - accuracy: 0.9915 - val_loss: 0.0644 - val_accuracy: 0.9805\n",
            "Epoch 8/10\n",
            "235/235 [==============================] - 5s 19ms/step - loss: 0.0248 - accuracy: 0.9935 - val_loss: 0.0636 - val_accuracy: 0.9801\n",
            "Epoch 9/10\n",
            "235/235 [==============================] - 4s 16ms/step - loss: 0.0197 - accuracy: 0.9957 - val_loss: 0.0691 - val_accuracy: 0.9789\n",
            "Epoch 10/10\n",
            "235/235 [==============================] - 4s 16ms/step - loss: 0.0157 - accuracy: 0.9967 - val_loss: 0.0602 - val_accuracy: 0.9813\n"
          ]
        }
      ],
      "source": [
        "# Training model\n",
        "history = model.fit(X_train, y_train, epochs=num_epochs, batch_size=batch_size, validation_data=(X_test, y_test))"
      ]
    },
    {
      "cell_type": "markdown",
      "metadata": {
        "id": "jLPfjC-QL5l9"
      },
      "source": [
        "Menampilkan metrics hasil traning untuk evaluasi."
      ]
    },
    {
      "cell_type": "code",
      "execution_count": null,
      "metadata": {
        "colab": {
          "background_save": true
        },
        "id": "4ogC0WRjLtNw",
        "outputId": "bba00278-722a-4c3f-c86d-4d8cf162f9da"
      },
      "outputs": [
        {
          "name": "stdout",
          "output_type": "stream",
          "text": [
            "313/313 [==============================] - 1s 3ms/step - loss: 0.0602 - accuracy: 0.9813\n",
            "Test Accuracy: 0.9812999963760376\n",
            "Test Loss: 0.06021343916654587\n"
          ]
        }
      ],
      "source": [
        "test_loss, test_accuracy = model.evaluate(X_test, y_test)\n",
        "print('Test Accuracy:', test_accuracy)\n",
        "print('Test Loss:', test_loss)"
      ]
    },
    {
      "cell_type": "markdown",
      "metadata": {
        "id": "hZq-QEhGMS_O"
      },
      "source": [
        "Simpan metrics untuk setiap epoch agar dapat melakukan plot kurva loss dan accuracy."
      ]
    },
    {
      "cell_type": "code",
      "execution_count": null,
      "metadata": {
        "colab": {
          "background_save": true
        },
        "id": "RkBsa9zUMCVb"
      },
      "outputs": [],
      "source": [
        "metrics = history.history"
      ]
    },
    {
      "cell_type": "code",
      "execution_count": null,
      "metadata": {
        "colab": {
          "background_save": true
        },
        "id": "uc75PytKMJ2t"
      },
      "outputs": [],
      "source": [
        "training_loss_list = metrics['loss']\n",
        "test_loss_list = metrics['val_loss']"
      ]
    },
    {
      "cell_type": "code",
      "execution_count": null,
      "metadata": {
        "colab": {
          "background_save": true
        },
        "id": "vWg0otPjMlM0",
        "outputId": "c6c4513f-29c5-417f-ece0-5a496e9ac0e7"
      },
      "outputs": [
        {
          "data": {
            "image/png": "[encoded data removed]",
            "text/plain": [
              "<Figure size 640x480 with 1 Axes>"
            ]
          },
          "metadata": {},
          "output_type": "display_data"
        }
      ],
      "source": [
        "x = np.arange(0, num_epochs, 1)\n",
        "plt.title('Training and Test Loss')\n",
        "plt.xlabel('Epoch')\n",
        "plt.ylabel('Loss')\n",
        "plt.plot(x, training_loss_list, label='Training Loss')\n",
        "plt.plot(x, test_loss_list, label='Test Loss')\n",
        "plt.legend()\n",
        "plt.show()"
      ]
    },
    {
      "cell_type": "code",
      "execution_count": null,
      "metadata": {
        "colab": {
          "background_save": true
        },
        "id": "cWF0gL38Mrq1"
      },
      "outputs": [],
      "source": [
        "train_accuracy_list = metrics['accuracy']\n",
        "test_accuracy_list = metrics['val_accuracy']"
      ]
    },
    {
      "cell_type": "code",
      "execution_count": null,
      "metadata": {
        "colab": {
          "background_save": true
        },
        "id": "VRyk39myMu1V",
        "outputId": "a58e2492-c5f4-49c2-d13e-272813d0117f"
      },
      "outputs": [
        {
          "data": {
            "image/png": "[encoded data removed]",
            "text/plain": [
              "<Figure size 640x480 with 1 Axes>"
            ]
          },
          "metadata": {},
          "output_type": "display_data"
        }
      ],
      "source": [
        "plt.title('Training and Test Accuracy')\n",
        "plt.xlabel('Epoch')\n",
        "plt.ylabel('Accuracy')\n",
        "plt.plot(x, train_accuracy_list, label='Training Accuracy')\n",
        "plt.plot(x, test_accuracy_list, label='Test Accuracy')\n",
        "plt.legend()\n",
        "plt.show()"
      ]
    },
    {
      "cell_type": "markdown",
      "metadata": {
        "id": "7x-vAaTqM8NN"
      },
      "source": [
        "### Inference"
      ]
    },
    {
      "cell_type": "markdown",
      "metadata": {
        "id": "7Aw2AjObNG-9"
      },
      "source": [
        "Melakukan prediksi dengan model yang sudah di-training."
      ]
    },
    {
      "cell_type": "code",
      "execution_count": null,
      "metadata": {
        "colab": {
          "background_save": true
        },
        "id": "pn1fvF0iMy7c",
        "outputId": "98659803-573a-48e6-9c1c-cd4230a9f5cc"
      },
      "outputs": [
        {
          "name": "stdout",
          "output_type": "stream",
          "text": [
            "313/313 [==============================] - 1s 3ms/step\n"
          ]
        }
      ],
      "source": [
        "predictions = model.predict(X_test)"
      ]
    },
    {
      "cell_type": "markdown",
      "metadata": {
        "id": "2_VFFtC5NVHl"
      },
      "source": [
        "Melihat hasil prediksi."
      ]
    },
    {
      "cell_type": "code",
      "execution_count": 27,
      "metadata": {
        "id": "eepBBMfsNgxU"
      },
      "outputs": [],
      "source": [
        "index = 1"
      ]
    },
    {
      "cell_type": "code",
      "execution_count": 28,
      "metadata": {
        "colab": {
          "base_uri": "https://localhost:8080/",
          "height": 430
        },
        "id": "_2obJ0KdNM_0",
        "outputId": "15948d91-30ca-4004-c26f-a5a02f894be6"
      },
      "outputs": [
        {
          "output_type": "display_data",
          "data": {
            "text/plain": [
              "<Figure size 640x480 with 1 Axes>"
            ],
            "image/png": "[encoded data removed]"
          },
          "metadata": {}
        }
      ],
      "source": [
        "plt.imshow(test_images[index], cmap=plt.get_cmap('gray'))\n",
        "plt.show()"
      ]
    },
    {
      "cell_type": "code",
      "execution_count": 29,
      "metadata": {
        "colab": {
          "base_uri": "https://localhost:8080/"
        },
        "id": "M3gDOq6ANbyU",
        "outputId": "b0a307f5-1803-4cc4-81b8-413c60b730ea"
      },
      "outputs": [
        {
          "output_type": "stream",
          "name": "stdout",
          "text": [
            "Prediction: 2\n"
          ]
        }
      ],
      "source": [
        "print(\"Prediction:\", np.argmax(predictions[index]))"
      ]
    }
  ],
  "metadata": {
    "colab": {
      "provenance": [],
      "authorship_tag": "ABX9TyMbpc1jXzSjgmoQV1bYRZpr",
      "include_colab_link": true
    },
    "kernelspec": {
      "display_name": "Python 3",
      "name": "python3"
    },
    "language_info": {
      "name": "python"
    }
  },
  "nbformat": 4,
  "nbformat_minor": 0
}