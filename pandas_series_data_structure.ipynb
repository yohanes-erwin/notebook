{
  "nbformat": 4,
  "nbformat_minor": 0,
  "metadata": {
    "colab": {
      "provenance": [],
      "authorship_tag": "ABX9TyOg1s1XFjxs+U350MFN+hF/",
      "include_colab_link": true
    },
    "kernelspec": {
      "name": "python3",
      "display_name": "Python 3"
    },
    "language_info": {
      "name": "python"
    }
  },
  "cells": [
    {
      "cell_type": "markdown",
      "metadata": {
        "id": "view-in-github",
        "colab_type": "text"
      },
      "source": [
        "<a href=\"https://colab.research.google.com/github/yohanes-erwin/notebook/blob/main/pandas_series_data_structure.ipynb\" target=\"_parent\"><img src=\"https://colab.research.google.com/assets/colab-badge.svg\" alt=\"Open In Colab\"/></a>"
      ]
    },
    {
      "cell_type": "code",
      "execution_count": 1,
      "metadata": {
        "id": "ZXzfoutNOCDK"
      },
      "outputs": [],
      "source": [
        "import pandas as pd"
      ]
    },
    {
      "cell_type": "markdown",
      "source": [
        "Membuat Series dari list"
      ],
      "metadata": {
        "id": "gcAaGfoeqdBv"
      }
    },
    {
      "cell_type": "code",
      "source": [
        "obj = pd.Series([1, \"John\", 3.5, \"Hey\"])\n",
        "obj"
      ],
      "metadata": {
        "colab": {
          "base_uri": "https://localhost:8080/"
        },
        "id": "Z3sqEcbiOSuu",
        "outputId": "9cb4471f-cccb-4301-9a6e-863254825bbf"
      },
      "execution_count": 2,
      "outputs": [
        {
          "output_type": "execute_result",
          "data": {
            "text/plain": [
              "0       1\n",
              "1    John\n",
              "2     3.5\n",
              "3     Hey\n",
              "dtype: object"
            ]
          },
          "metadata": {},
          "execution_count": 2
        }
      ]
    },
    {
      "cell_type": "markdown",
      "source": [
        "Mengambil satu elemen dari Series"
      ],
      "metadata": {
        "id": "kWu1Z-2oqkz2"
      }
    },
    {
      "cell_type": "code",
      "source": [
        "obj[0]"
      ],
      "metadata": {
        "colab": {
          "base_uri": "https://localhost:8080/"
        },
        "id": "gwRK4UdPOYrX",
        "outputId": "962ea525-2545-4824-d14d-1e31af1ab8db"
      },
      "execution_count": 3,
      "outputs": [
        {
          "output_type": "execute_result",
          "data": {
            "text/plain": [
              "1"
            ]
          },
          "metadata": {},
          "execution_count": 3
        }
      ]
    },
    {
      "cell_type": "code",
      "source": [
        "obj[1]"
      ],
      "metadata": {
        "colab": {
          "base_uri": "https://localhost:8080/",
          "height": 36
        },
        "id": "tv4vZlTKPgkt",
        "outputId": "f02da98c-b41c-4d13-fdbb-48729f8329d0"
      },
      "execution_count": 4,
      "outputs": [
        {
          "output_type": "execute_result",
          "data": {
            "text/plain": [
              "'John'"
            ],
            "application/vnd.google.colaboratory.intrinsic+json": {
              "type": "string"
            }
          },
          "metadata": {},
          "execution_count": 4
        }
      ]
    },
    {
      "cell_type": "markdown",
      "source": [
        "Mengambil semua elemen dari Series"
      ],
      "metadata": {
        "id": "8gz5RnHvq2lR"
      }
    },
    {
      "cell_type": "code",
      "source": [
        "obj.values"
      ],
      "metadata": {
        "colab": {
          "base_uri": "https://localhost:8080/"
        },
        "id": "FzlXVsmZPkaB",
        "outputId": "0ac936bf-ced8-467b-fddb-f8fa1388a40b"
      },
      "execution_count": 5,
      "outputs": [
        {
          "output_type": "execute_result",
          "data": {
            "text/plain": [
              "array([1, 'John', 3.5, 'Hey'], dtype=object)"
            ]
          },
          "metadata": {},
          "execution_count": 5
        }
      ]
    },
    {
      "cell_type": "markdown",
      "source": [
        "Membuat Series dari list dengan custom index"
      ],
      "metadata": {
        "id": "Hc-1F_nAq_RV"
      }
    },
    {
      "cell_type": "code",
      "source": [
        "obj2 = pd.Series([1, \"John\", 3.5, \"Hey\"], index=[\"a\", \"b\", \"c\", \"d\"])\n",
        "obj2"
      ],
      "metadata": {
        "colab": {
          "base_uri": "https://localhost:8080/"
        },
        "id": "1ndbSGpOPoWD",
        "outputId": "8c9687ad-f779-4ba4-b604-a7e4b69bafb9"
      },
      "execution_count": 6,
      "outputs": [
        {
          "output_type": "execute_result",
          "data": {
            "text/plain": [
              "a       1\n",
              "b    John\n",
              "c     3.5\n",
              "d     Hey\n",
              "dtype: object"
            ]
          },
          "metadata": {},
          "execution_count": 6
        }
      ]
    },
    {
      "cell_type": "code",
      "source": [
        "obj2[\"a\"]"
      ],
      "metadata": {
        "colab": {
          "base_uri": "https://localhost:8080/"
        },
        "id": "agwPMEvdPyHa",
        "outputId": "877a12c9-88f3-4f47-8bd9-087c76dcebec"
      },
      "execution_count": 7,
      "outputs": [
        {
          "output_type": "execute_result",
          "data": {
            "text/plain": [
              "1"
            ]
          },
          "metadata": {},
          "execution_count": 7
        }
      ]
    },
    {
      "cell_type": "code",
      "source": [
        "obj2[\"b\"]"
      ],
      "metadata": {
        "colab": {
          "base_uri": "https://localhost:8080/",
          "height": 36
        },
        "id": "1HPI0_krP1lI",
        "outputId": "32743ee1-2187-46de-a1ce-7098d6fefead"
      },
      "execution_count": 8,
      "outputs": [
        {
          "output_type": "execute_result",
          "data": {
            "text/plain": [
              "'John'"
            ],
            "application/vnd.google.colaboratory.intrinsic+json": {
              "type": "string"
            }
          },
          "metadata": {},
          "execution_count": 8
        }
      ]
    },
    {
      "cell_type": "markdown",
      "source": [
        "Mengambil semua index dari Series"
      ],
      "metadata": {
        "id": "VfdLFNEerPOv"
      }
    },
    {
      "cell_type": "code",
      "source": [
        "obj2.index"
      ],
      "metadata": {
        "colab": {
          "base_uri": "https://localhost:8080/"
        },
        "id": "BSNr-6xKP3Oi",
        "outputId": "baf9ba31-6b78-474e-b748-dca9f21fa151"
      },
      "execution_count": 9,
      "outputs": [
        {
          "output_type": "execute_result",
          "data": {
            "text/plain": [
              "Index(['a', 'b', 'c', 'd'], dtype='object')"
            ]
          },
          "metadata": {},
          "execution_count": 9
        }
      ]
    },
    {
      "cell_type": "markdown",
      "source": [
        "Membuat Series dari dictionary"
      ],
      "metadata": {
        "id": "8en2ru2srcr9"
      }
    },
    {
      "cell_type": "code",
      "source": [
        "score = {\"Jane\":90, \"Bill\":80, \"Elon\":85, \"Tom\":75, \"Tim\":95}\n",
        "names = pd.Series(score) # Convert to Series\n",
        "names"
      ],
      "metadata": {
        "colab": {
          "base_uri": "https://localhost:8080/"
        },
        "id": "RG_G7_ZIP5se",
        "outputId": "e4b96779-34b9-4f9c-8cd8-81a355ff5ef8"
      },
      "execution_count": 10,
      "outputs": [
        {
          "output_type": "execute_result",
          "data": {
            "text/plain": [
              "Jane    90\n",
              "Bill    80\n",
              "Elon    85\n",
              "Tom     75\n",
              "Tim     95\n",
              "dtype: int64"
            ]
          },
          "metadata": {},
          "execution_count": 10
        }
      ]
    },
    {
      "cell_type": "code",
      "source": [
        "names[\"Tim\"]"
      ],
      "metadata": {
        "colab": {
          "base_uri": "https://localhost:8080/"
        },
        "id": "NoQX_qJ7QNli",
        "outputId": "1a659977-b30e-419f-e525-00f0b9da80e1"
      },
      "execution_count": 11,
      "outputs": [
        {
          "output_type": "execute_result",
          "data": {
            "text/plain": [
              "95"
            ]
          },
          "metadata": {},
          "execution_count": 11
        }
      ]
    },
    {
      "cell_type": "markdown",
      "source": [
        "Mengambil elemen dengan kondisi"
      ],
      "metadata": {
        "id": "JU9P7nrxrlf7"
      }
    },
    {
      "cell_type": "code",
      "source": [
        "names[names>=85]"
      ],
      "metadata": {
        "colab": {
          "base_uri": "https://localhost:8080/"
        },
        "id": "zjbxOqX9QRUb",
        "outputId": "ba6e4bbb-2d90-48ff-8b94-82a518cc59f7"
      },
      "execution_count": 12,
      "outputs": [
        {
          "output_type": "execute_result",
          "data": {
            "text/plain": [
              "Jane    90\n",
              "Elon    85\n",
              "Tim     95\n",
              "dtype: int64"
            ]
          },
          "metadata": {},
          "execution_count": 12
        }
      ]
    },
    {
      "cell_type": "markdown",
      "source": [
        "Mengubah elemen tertentu"
      ],
      "metadata": {
        "id": "mm1a_9Ulrq-V"
      }
    },
    {
      "cell_type": "code",
      "source": [
        "names[\"Tom\"] = 60\n",
        "names"
      ],
      "metadata": {
        "colab": {
          "base_uri": "https://localhost:8080/"
        },
        "id": "gRh58ykHQTnF",
        "outputId": "969425eb-ca31-4f70-bfcd-37737b2096a5"
      },
      "execution_count": 13,
      "outputs": [
        {
          "output_type": "execute_result",
          "data": {
            "text/plain": [
              "Jane    90\n",
              "Bill    80\n",
              "Elon    85\n",
              "Tom     60\n",
              "Tim     95\n",
              "dtype: int64"
            ]
          },
          "metadata": {},
          "execution_count": 13
        }
      ]
    },
    {
      "cell_type": "markdown",
      "source": [
        "Mengubah elemen dengan kondisi"
      ],
      "metadata": {
        "id": "IHroY5daruqs"
      }
    },
    {
      "cell_type": "code",
      "source": [
        "names[names<=80] = 83\n",
        "names"
      ],
      "metadata": {
        "colab": {
          "base_uri": "https://localhost:8080/"
        },
        "id": "r2klAKvzQW27",
        "outputId": "1d24179e-2be1-4dba-f6f6-fa49f74431d2"
      },
      "execution_count": 14,
      "outputs": [
        {
          "output_type": "execute_result",
          "data": {
            "text/plain": [
              "Jane    90\n",
              "Bill    83\n",
              "Elon    85\n",
              "Tom     83\n",
              "Tim     95\n",
              "dtype: int64"
            ]
          },
          "metadata": {},
          "execution_count": 14
        }
      ]
    },
    {
      "cell_type": "markdown",
      "source": [
        "Pencarian elemen"
      ],
      "metadata": {
        "id": "oLFcA7_irzql"
      }
    },
    {
      "cell_type": "code",
      "source": [
        "\"Tom\" in names"
      ],
      "metadata": {
        "colab": {
          "base_uri": "https://localhost:8080/"
        },
        "id": "z4iJFh5FQajf",
        "outputId": "15628900-a234-4b3c-fef8-a1cca6a2591f"
      },
      "execution_count": 15,
      "outputs": [
        {
          "output_type": "execute_result",
          "data": {
            "text/plain": [
              "True"
            ]
          },
          "metadata": {},
          "execution_count": 15
        }
      ]
    },
    {
      "cell_type": "code",
      "source": [
        "\"Can\" in names"
      ],
      "metadata": {
        "colab": {
          "base_uri": "https://localhost:8080/"
        },
        "id": "7UaORozXQez3",
        "outputId": "58dc5321-a6a8-4b65-a45a-3abd9adc7838"
      },
      "execution_count": 16,
      "outputs": [
        {
          "output_type": "execute_result",
          "data": {
            "text/plain": [
              "False"
            ]
          },
          "metadata": {},
          "execution_count": 16
        }
      ]
    },
    {
      "cell_type": "markdown",
      "source": [
        "Operasi matematika pada Series"
      ],
      "metadata": {
        "id": "upr1sKIOr6hm"
      }
    },
    {
      "cell_type": "code",
      "source": [
        "names/10"
      ],
      "metadata": {
        "colab": {
          "base_uri": "https://localhost:8080/"
        },
        "id": "j5f-3TcIQgcN",
        "outputId": "e72cc7aa-2dbe-42d6-f04f-f39226d63a1c"
      },
      "execution_count": 17,
      "outputs": [
        {
          "output_type": "execute_result",
          "data": {
            "text/plain": [
              "Jane    9.0\n",
              "Bill    8.3\n",
              "Elon    8.5\n",
              "Tom     8.3\n",
              "Tim     9.5\n",
              "dtype: float64"
            ]
          },
          "metadata": {},
          "execution_count": 17
        }
      ]
    },
    {
      "cell_type": "code",
      "source": [
        "names**2"
      ],
      "metadata": {
        "id": "omq3sqDMQjoN",
        "outputId": "b5214d9f-a3bb-4dac-9d37-ee3ffa2b424e",
        "colab": {
          "base_uri": "https://localhost:8080/"
        }
      },
      "execution_count": 18,
      "outputs": [
        {
          "output_type": "execute_result",
          "data": {
            "text/plain": [
              "Jane    8100\n",
              "Bill    6889\n",
              "Elon    7225\n",
              "Tom     6889\n",
              "Tim     9025\n",
              "dtype: int64"
            ]
          },
          "metadata": {},
          "execution_count": 18
        }
      ]
    },
    {
      "cell_type": "markdown",
      "source": [
        "Pengecekan null"
      ],
      "metadata": {
        "id": "TH36F__5sCFR"
      }
    },
    {
      "cell_type": "code",
      "source": [
        "names.isnull()"
      ],
      "metadata": {
        "id": "xuw-sHsLQlmO",
        "outputId": "9d0b5963-0e41-4866-b6e2-969b19a14ade",
        "colab": {
          "base_uri": "https://localhost:8080/"
        }
      },
      "execution_count": 19,
      "outputs": [
        {
          "output_type": "execute_result",
          "data": {
            "text/plain": [
              "Jane    False\n",
              "Bill    False\n",
              "Elon    False\n",
              "Tom     False\n",
              "Tim     False\n",
              "dtype: bool"
            ]
          },
          "metadata": {},
          "execution_count": 19
        }
      ]
    }
  ]
}